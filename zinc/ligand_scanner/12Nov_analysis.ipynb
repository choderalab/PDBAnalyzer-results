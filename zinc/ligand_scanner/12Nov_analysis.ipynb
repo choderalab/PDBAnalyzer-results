{
 "cells": [
  {
   "cell_type": "code",
   "execution_count": 1,
   "metadata": {
    "collapsed": false
   },
   "outputs": [
    {
     "name": "stdout",
     "output_type": "stream",
     "text": [
      "12Nov_analysis.ipynb                                       13Nov_ligand_scanner_results_extra_in_cutoff_analysis.txt\r\n",
      "12Nov_ligand_scanner_results.txt                           ligand_scanner_results_extra_in_cutoff_analysis_FILES.txt\r\n",
      "13Nov_FILES_analysis.ipynb\r\n"
     ]
    }
   ],
   "source": [
    "ls"
   ]
  },
  {
   "cell_type": "code",
   "execution_count": 2,
   "metadata": {
    "collapsed": true
   },
   "outputs": [],
   "source": [
    "results = open('12Nov_ligand_scanner_results.txt')"
   ]
  },
  {
   "cell_type": "code",
   "execution_count": 3,
   "metadata": {
    "collapsed": false
   },
   "outputs": [
    {
     "data": {
      "text/plain": [
       "<open file '12Nov_ligand_scanner_results.txt', mode 'r' at 0x1062cf150>"
      ]
     },
     "execution_count": 3,
     "metadata": {},
     "output_type": "execute_result"
    }
   ],
   "source": [
    "results"
   ]
  },
  {
   "cell_type": "code",
   "execution_count": 4,
   "metadata": {
    "collapsed": true
   },
   "outputs": [],
   "source": [
    "dictionary = results.read()"
   ]
  },
  {
   "cell_type": "code",
   "execution_count": 5,
   "metadata": {
    "collapsed": false
   },
   "outputs": [
    {
     "data": {
      "text/plain": [
       "\"{'extra_in_cutoff_count_by_atom': 4567, 'files_with_metal_count': 10384, 'extra_in_cutoff_count_by_file': 2407, 'extra_in_CONECT_count_by_file': 54, 'error_file_count': 195, 'both_equal_count_by_file': 9611, 'both_extra_cutoff_higher_count_by_atom': 4, 'both_extra_count_by_file': 9, 'extra_in_CONECT_count_by_atom': 91, 'both_extra_CONECT_higher_count_by_atom': 1, 'both_equal_count_by_atom': 25378, 'metal_count': 30051, 'both_extra_both_equal_by_atom': 10, 'ok_file_count': 112951}\""
      ]
     },
     "execution_count": 5,
     "metadata": {},
     "output_type": "execute_result"
    }
   ],
   "source": [
    "dictionary"
   ]
  },
  {
   "cell_type": "code",
   "execution_count": 6,
   "metadata": {
    "collapsed": true
   },
   "outputs": [],
   "source": [
    "results_dict = {'extra_in_cutoff_count_by_atom': 4567, 'files_with_metal_count': 10384, 'extra_in_cutoff_count_by_file': 2407, 'extra_in_CONECT_count_by_file': 54, 'error_file_count': 195, 'both_equal_count_by_file': 9611, 'both_extra_cutoff_higher_count_by_atom': 4, 'both_extra_count_by_file': 9, 'extra_in_CONECT_count_by_atom': 91, 'both_extra_CONECT_higher_count_by_atom': 1, 'both_equal_count_by_atom': 25378, 'metal_count': 30051, 'both_extra_both_equal_by_atom': 10, 'ok_file_count': 112951}"
   ]
  },
  {
   "cell_type": "code",
   "execution_count": 7,
   "metadata": {
    "collapsed": false
   },
   "outputs": [
    {
     "data": {
      "text/plain": [
       "{'both_equal_count_by_atom': 25378,\n",
       " 'both_equal_count_by_file': 9611,\n",
       " 'both_extra_CONECT_higher_count_by_atom': 1,\n",
       " 'both_extra_both_equal_by_atom': 10,\n",
       " 'both_extra_count_by_file': 9,\n",
       " 'both_extra_cutoff_higher_count_by_atom': 4,\n",
       " 'error_file_count': 195,\n",
       " 'extra_in_CONECT_count_by_atom': 91,\n",
       " 'extra_in_CONECT_count_by_file': 54,\n",
       " 'extra_in_cutoff_count_by_atom': 4567,\n",
       " 'extra_in_cutoff_count_by_file': 2407,\n",
       " 'files_with_metal_count': 10384,\n",
       " 'metal_count': 30051,\n",
       " 'ok_file_count': 112951}"
      ]
     },
     "execution_count": 7,
     "metadata": {},
     "output_type": "execute_result"
    }
   ],
   "source": [
    "results_dict"
   ]
  },
  {
   "cell_type": "code",
   "execution_count": 8,
   "metadata": {
    "collapsed": true
   },
   "outputs": [],
   "source": [
    "by_atom = {}"
   ]
  },
  {
   "cell_type": "code",
   "execution_count": 9,
   "metadata": {
    "collapsed": false
   },
   "outputs": [],
   "source": [
    "for i in results_dict:\n",
    "    if 'by_atom' in i:\n",
    "        by_atom[i] = results_dict[i]"
   ]
  },
  {
   "cell_type": "code",
   "execution_count": 10,
   "metadata": {
    "collapsed": false
   },
   "outputs": [
    {
     "data": {
      "text/plain": [
       "{'both_equal_count_by_atom': 25378,\n",
       " 'both_extra_CONECT_higher_count_by_atom': 1,\n",
       " 'both_extra_both_equal_by_atom': 10,\n",
       " 'both_extra_cutoff_higher_count_by_atom': 4,\n",
       " 'extra_in_CONECT_count_by_atom': 91,\n",
       " 'extra_in_cutoff_count_by_atom': 4567}"
      ]
     },
     "execution_count": 10,
     "metadata": {},
     "output_type": "execute_result"
    }
   ],
   "source": [
    "by_atom"
   ]
  },
  {
   "cell_type": "code",
   "execution_count": 11,
   "metadata": {
    "collapsed": true
   },
   "outputs": [],
   "source": [
    "total = 0"
   ]
  },
  {
   "cell_type": "code",
   "execution_count": 12,
   "metadata": {
    "collapsed": true
   },
   "outputs": [],
   "source": [
    "for i in by_atom:\n",
    "    total += by_atom[i]"
   ]
  },
  {
   "cell_type": "code",
   "execution_count": 13,
   "metadata": {
    "collapsed": false
   },
   "outputs": [
    {
     "data": {
      "text/plain": [
       "30051"
      ]
     },
     "execution_count": 13,
     "metadata": {},
     "output_type": "execute_result"
    }
   ],
   "source": [
    "total"
   ]
  },
  {
   "cell_type": "code",
   "execution_count": 14,
   "metadata": {
    "collapsed": true
   },
   "outputs": [],
   "source": [
    "by_atom_perc = {}"
   ]
  },
  {
   "cell_type": "code",
   "execution_count": 15,
   "metadata": {
    "collapsed": true
   },
   "outputs": [],
   "source": [
    "from __future__ import division"
   ]
  },
  {
   "cell_type": "code",
   "execution_count": 16,
   "metadata": {
    "collapsed": true
   },
   "outputs": [],
   "source": [
    "for i in by_atom:\n",
    "    by_atom_perc[i] = by_atom[i] / total * 100"
   ]
  },
  {
   "cell_type": "code",
   "execution_count": 17,
   "metadata": {
    "collapsed": false
   },
   "outputs": [
    {
     "data": {
      "text/plain": [
       "{'both_equal_count_by_atom': 84.44976872649829,\n",
       " 'both_extra_CONECT_higher_count_by_atom': 0.0033276762836511264,\n",
       " 'both_extra_both_equal_by_atom': 0.033276762836511264,\n",
       " 'both_extra_cutoff_higher_count_by_atom': 0.013310705134604505,\n",
       " 'extra_in_CONECT_count_by_atom': 0.3028185418122525,\n",
       " 'extra_in_cutoff_count_by_atom': 15.197497587434693}"
      ]
     },
     "execution_count": 17,
     "metadata": {},
     "output_type": "execute_result"
    }
   ],
   "source": [
    "by_atom_perc"
   ]
  },
  {
   "cell_type": "code",
   "execution_count": 18,
   "metadata": {
    "collapsed": true
   },
   "outputs": [],
   "source": [
    "by_file = {}"
   ]
  },
  {
   "cell_type": "code",
   "execution_count": 20,
   "metadata": {
    "collapsed": true
   },
   "outputs": [],
   "source": [
    "for i in results_dict:\n",
    "    if 'by_file' in i:\n",
    "        by_file[i] = results_dict[i]"
   ]
  },
  {
   "cell_type": "code",
   "execution_count": 21,
   "metadata": {
    "collapsed": false
   },
   "outputs": [
    {
     "data": {
      "text/plain": [
       "{'both_equal_count_by_file': 9611,\n",
       " 'both_extra_count_by_file': 9,\n",
       " 'extra_in_CONECT_count_by_file': 54,\n",
       " 'extra_in_cutoff_count_by_file': 2407}"
      ]
     },
     "execution_count": 21,
     "metadata": {},
     "output_type": "execute_result"
    }
   ],
   "source": [
    "by_file"
   ]
  },
  {
   "cell_type": "code",
   "execution_count": 22,
   "metadata": {
    "collapsed": true
   },
   "outputs": [],
   "source": [
    "by_file_perc = {}\n",
    "\n",
    "total = 0\n",
    "\n",
    "for i in by_file:\n",
    "    total += by_file[i]"
   ]
  },
  {
   "cell_type": "code",
   "execution_count": 23,
   "metadata": {
    "collapsed": false
   },
   "outputs": [
    {
     "data": {
      "text/plain": [
       "12081"
      ]
     },
     "execution_count": 23,
     "metadata": {},
     "output_type": "execute_result"
    }
   ],
   "source": [
    "total"
   ]
  },
  {
   "cell_type": "code",
   "execution_count": 24,
   "metadata": {
    "collapsed": true
   },
   "outputs": [],
   "source": [
    "for i in by_file:\n",
    "    by_file_perc[i] = by_file[i] / total * 100"
   ]
  },
  {
   "cell_type": "code",
   "execution_count": 25,
   "metadata": {
    "collapsed": false
   },
   "outputs": [
    {
     "data": {
      "text/plain": [
       "{'both_equal_count_by_file': 79.5546726264382,\n",
       " 'both_extra_count_by_file': 0.07449714427613609,\n",
       " 'extra_in_CONECT_count_by_file': 0.4469828656568165,\n",
       " 'extra_in_cutoff_count_by_file': 19.923847363628838}"
      ]
     },
     "execution_count": 25,
     "metadata": {},
     "output_type": "execute_result"
    }
   ],
   "source": [
    "by_file_perc"
   ]
  },
  {
   "cell_type": "code",
   "execution_count": null,
   "metadata": {
    "collapsed": true
   },
   "outputs": [],
   "source": []
  }
 ],
 "metadata": {
  "kernelspec": {
   "display_name": "Python 2",
   "language": "python",
   "name": "python2"
  },
  "language_info": {
   "codemirror_mode": {
    "name": "ipython",
    "version": 2
   },
   "file_extension": ".py",
   "mimetype": "text/x-python",
   "name": "python",
   "nbconvert_exporter": "python",
   "pygments_lexer": "ipython2",
   "version": "2.7.10"
  }
 },
 "nbformat": 4,
 "nbformat_minor": 0
}
