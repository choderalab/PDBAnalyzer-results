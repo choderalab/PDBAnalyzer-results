{
 "cells": [
  {
   "cell_type": "code",
   "execution_count": 1,
   "metadata": {
    "collapsed": false
   },
   "outputs": [
    {
     "name": "stdout",
     "output_type": "stream",
     "text": [
      "PDB_elements.ipynb                                   pdblist_element_error.txt                            pdbx_conect_reader_openmm_results_elementerror2.txt\r\n",
      "PDB_reader_elementcheck_results.txt                  pdblist_trues_files.txt                              pdbx_conect_reader_openmm_results_trues.txt\r\n",
      "covale2_files.ipynb                                  pdbx_conect_reader_covale_files_results.txt          pdbx_conect_reader_results_metalc_files.txt\r\n",
      "covale_analysis.ipynb                                pdbx_conect_reader_covale_results.txt                pdbxlist_covale.txt\r\n",
      "metalc_files.ipynb                                   pdbx_conect_reader_openmm_results.txt                trues.ipynb\r\n",
      "openmm_full_analysis.ipynb                           pdbx_conect_reader_openmm_results_elementerror.txt   trues_pdbx_openmm_results.txt\r\n"
     ]
    }
   ],
   "source": [
    "ls"
   ]
  },
  {
   "cell_type": "code",
   "execution_count": null,
   "metadata": {
    "collapsed": true
   },
   "outputs": [],
   "source": [
    "results = eval(open('pdbx_conect_reader_results_metalc_file'))"
   ]
  }
 ],
 "metadata": {
  "kernelspec": {
   "display_name": "Python 2",
   "language": "python",
   "name": "python2"
  },
  "language_info": {
   "codemirror_mode": {
    "name": "ipython",
    "version": 2
   },
   "file_extension": ".py",
   "mimetype": "text/x-python",
   "name": "python",
   "nbconvert_exporter": "python",
   "pygments_lexer": "ipython2",
   "version": "2.7.10"
  }
 },
 "nbformat": 4,
 "nbformat_minor": 0
}
